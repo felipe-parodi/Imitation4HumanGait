{
  "nbformat": 4,
  "nbformat_minor": 0,
  "metadata": {
    "colab": {
      "name": "5. Behavioral Cloning",
      "provenance": [],
      "collapsed_sections": [],
      "include_colab_link": true
    },
    "kernelspec": {
      "name": "python3",
      "display_name": "Python 3"
    },
    "language_info": {
      "name": "python"
    },
    "accelerator": "GPU"
  },
  "cells": [
    {
      "cell_type": "markdown",
      "metadata": {
        "id": "view-in-github",
        "colab_type": "text"
      },
      "source": [
        "<a href=\"https://colab.research.google.com/github/felipe-parodi/imitation-learning-cis522/blob/main/Behavioral_Cloning.ipynb\" target=\"_parent\"><img src=\"https://colab.research.google.com/assets/colab-badge.svg\" alt=\"Open In Colab\"/></a>"
      ]
    },
    {
      "cell_type": "markdown",
      "metadata": {
        "id": "e6crSyc4VsBD"
      },
      "source": [
        "# **Behavioral Cloning for PyBullet Humanoid-v0**"
      ]
    },
    {
      "cell_type": "markdown",
      "metadata": {
        "id": "eFq0wTBJLrVT"
      },
      "source": [
        "###Add link to drive if using Colab. Run locally for visualizing agent. "
      ]
    },
    {
      "cell_type": "code",
      "metadata": {
        "id": "IIfXqcdXtx0A"
      },
      "source": [
        "# SESSION PARAMETERS\n",
        "use_colab    = False \n",
        "train_model  = 1    # 0: evaluate only\n",
        "new_training = 0    # 0: load model and continue training; 1: Start from scratch\n",
        "\n",
        "if use_colab:\n",
        "  from google.colab import drive\n",
        "  drive.mount('/content/gdrive')"
      ],
      "execution_count": null,
      "outputs": []
    },
    {
      "cell_type": "code",
      "metadata": {
        "colab": {
          "base_uri": "https://localhost:8080/"
        },
        "id": "BObE4T279st4",
        "cellView": "form",
        "outputId": "ee3fb1e1-979f-410e-eec0-16cc60e946fa"
      },
      "source": [
        "# @markdown ### Install pybullet (Colab only)\n",
        "if use_colab:\n",
        "  !pip install pybullet\n",
        "  !apt-get update\n",
        "  !apt -q install imagemagick\n",
        "  !apt install -q xvfb\n",
        "  !pip install -q pyvirtualdisplay"
      ],
      "execution_count": null,
      "outputs": [
        {
          "output_type": "stream",
          "text": [
            "Collecting pybullet\n",
            "\u001b[?25l  Downloading https://files.pythonhosted.org/packages/4a/25/91b51ceffabb44859b081aa2417c9b535742e094681e34bf5285b6b8703b/pybullet-3.1.6-cp37-cp37m-manylinux1_x86_64.whl (89.3MB)\n",
            "\u001b[K     |████████████████████████████████| 89.3MB 51kB/s \n",
            "\u001b[?25hInstalling collected packages: pybullet\n",
            "Successfully installed pybullet-3.1.6\n",
            "Get:1 https://cloud.r-project.org/bin/linux/ubuntu bionic-cran40/ InRelease [3,626 B]\n",
            "Ign:2 https://developer.download.nvidia.com/compute/cuda/repos/ubuntu1804/x86_64  InRelease\n",
            "Get:3 https://cloud.r-project.org/bin/linux/ubuntu bionic-cran40/ Packages [53.9 kB]\n",
            "Ign:4 https://developer.download.nvidia.com/compute/machine-learning/repos/ubuntu1804/x86_64  InRelease\n",
            "Get:5 https://developer.download.nvidia.com/compute/cuda/repos/ubuntu1804/x86_64  Release [697 B]\n",
            "Hit:6 https://developer.download.nvidia.com/compute/machine-learning/repos/ubuntu1804/x86_64  Release\n",
            "Get:7 https://developer.download.nvidia.com/compute/cuda/repos/ubuntu1804/x86_64  Release.gpg [836 B]\n",
            "Get:8 http://security.ubuntu.com/ubuntu bionic-security InRelease [88.7 kB]\n",
            "Get:9 http://ppa.launchpad.net/c2d4u.team/c2d4u4.0+/ubuntu bionic InRelease [15.9 kB]\n",
            "Hit:11 http://archive.ubuntu.com/ubuntu bionic InRelease\n",
            "Get:12 http://archive.ubuntu.com/ubuntu bionic-updates InRelease [88.7 kB]\n",
            "Ign:13 https://developer.download.nvidia.com/compute/cuda/repos/ubuntu1804/x86_64  Packages\n",
            "Get:13 https://developer.download.nvidia.com/compute/cuda/repos/ubuntu1804/x86_64  Packages [742 kB]\n",
            "Hit:14 http://ppa.launchpad.net/cran/libgit2/ubuntu bionic InRelease\n",
            "Get:15 http://security.ubuntu.com/ubuntu bionic-security/universe amd64 Packages [1,410 kB]\n",
            "Get:16 http://ppa.launchpad.net/deadsnakes/ppa/ubuntu bionic InRelease [15.9 kB]\n",
            "Get:17 http://archive.ubuntu.com/ubuntu bionic-backports InRelease [74.6 kB]\n",
            "Get:18 http://archive.ubuntu.com/ubuntu bionic-updates/universe amd64 Packages [2,181 kB]\n",
            "Get:19 http://ppa.launchpad.net/graphics-drivers/ppa/ubuntu bionic InRelease [15.9 kB]\n",
            "Get:20 http://security.ubuntu.com/ubuntu bionic-security/restricted amd64 Packages [399 kB]\n",
            "Get:21 http://security.ubuntu.com/ubuntu bionic-security/multiverse amd64 Packages [24.7 kB]\n",
            "Get:22 http://security.ubuntu.com/ubuntu bionic-security/main amd64 Packages [2,119 kB]\n",
            "Get:23 http://ppa.launchpad.net/c2d4u.team/c2d4u4.0+/ubuntu bionic/main Sources [1,759 kB]\n",
            "Get:24 http://archive.ubuntu.com/ubuntu bionic-updates/multiverse amd64 Packages [31.6 kB]\n",
            "Get:25 http://archive.ubuntu.com/ubuntu bionic-updates/restricted amd64 Packages [429 kB]\n",
            "Get:26 http://archive.ubuntu.com/ubuntu bionic-updates/main amd64 Packages [2,550 kB]\n",
            "Get:27 http://ppa.launchpad.net/c2d4u.team/c2d4u4.0+/ubuntu bionic/main amd64 Packages [900 kB]\n",
            "Get:28 http://ppa.launchpad.net/deadsnakes/ppa/ubuntu bionic/main amd64 Packages [40.3 kB]\n",
            "Get:29 http://ppa.launchpad.net/graphics-drivers/ppa/ubuntu bionic/main amd64 Packages [53.2 kB]\n",
            "Fetched 13.0 MB in 8s (1,534 kB/s)\n",
            "Reading package lists... Done\n",
            "Reading package lists...\n",
            "Building dependency tree...\n",
            "Reading state information...\n",
            "The following package was automatically installed and is no longer required:\n",
            "  libnvidia-common-460\n",
            "Use 'apt autoremove' to remove it.\n",
            "The following additional packages will be installed:\n",
            "  fonts-droid-fallback fonts-noto-mono ghostscript gsfonts\n",
            "  imagemagick-6-common imagemagick-6.q16 libcupsfilters1 libcupsimage2\n",
            "  libdjvulibre-text libdjvulibre21 libgs9 libgs9-common libijs-0.35\n",
            "  libjbig2dec0 liblqr-1-0 libmagickcore-6.q16-3 libmagickcore-6.q16-3-extra\n",
            "  libmagickwand-6.q16-3 libnetpbm10 libwmf0.2-7 netpbm poppler-data\n",
            "Suggested packages:\n",
            "  fonts-noto ghostscript-x imagemagick-doc autotrace cups-bsd | lpr | lprng\n",
            "  enscript gimp gnuplot grads hp2xx html2ps libwmf-bin mplayer povray radiance\n",
            "  sane-utils texlive-base-bin transfig ufraw-batch inkscape libjxr-tools\n",
            "  libwmf0.2-7-gtk poppler-utils fonts-japanese-mincho | fonts-ipafont-mincho\n",
            "  fonts-japanese-gothic | fonts-ipafont-gothic fonts-arphic-ukai\n",
            "  fonts-arphic-uming fonts-nanum\n",
            "The following NEW packages will be installed:\n",
            "  fonts-droid-fallback fonts-noto-mono ghostscript gsfonts imagemagick\n",
            "  imagemagick-6-common imagemagick-6.q16 libcupsfilters1 libcupsimage2\n",
            "  libdjvulibre-text libdjvulibre21 libgs9 libgs9-common libijs-0.35\n",
            "  libjbig2dec0 liblqr-1-0 libmagickcore-6.q16-3 libmagickcore-6.q16-3-extra\n",
            "  libmagickwand-6.q16-3 libnetpbm10 libwmf0.2-7 netpbm poppler-data\n",
            "0 upgraded, 23 newly installed, 0 to remove and 85 not upgraded.\n",
            "Need to get 18.4 MB of archives.\n",
            "After this operation, 66.3 MB of additional disk space will be used.\n",
            "Get:1 http://archive.ubuntu.com/ubuntu bionic/main amd64 fonts-droid-fallback all 1:6.0.1r16-1.1 [1,805 kB]\n",
            "Get:2 http://archive.ubuntu.com/ubuntu bionic/main amd64 liblqr-1-0 amd64 0.4.2-2.1 [27.7 kB]\n",
            "Get:3 http://archive.ubuntu.com/ubuntu bionic-updates/main amd64 imagemagick-6-common all 8:6.9.7.4+dfsg-16ubuntu6.9 [60.0 kB]\n",
            "Get:4 http://archive.ubuntu.com/ubuntu bionic-updates/main amd64 libmagickcore-6.q16-3 amd64 8:6.9.7.4+dfsg-16ubuntu6.9 [1,616 kB]\n",
            "Get:5 http://archive.ubuntu.com/ubuntu bionic-updates/main amd64 libmagickwand-6.q16-3 amd64 8:6.9.7.4+dfsg-16ubuntu6.9 [293 kB]\n",
            "Get:6 http://archive.ubuntu.com/ubuntu bionic/main amd64 poppler-data all 0.4.8-2 [1,479 kB]\n",
            "Get:7 http://archive.ubuntu.com/ubuntu bionic/main amd64 fonts-noto-mono all 20171026-2 [75.5 kB]\n",
            "Get:8 http://archive.ubuntu.com/ubuntu bionic-updates/main amd64 libcupsimage2 amd64 2.2.7-1ubuntu2.8 [18.6 kB]\n",
            "Get:9 http://archive.ubuntu.com/ubuntu bionic/main amd64 libijs-0.35 amd64 0.35-13 [15.5 kB]\n",
            "Get:10 http://archive.ubuntu.com/ubuntu bionic/main amd64 libjbig2dec0 amd64 0.13-6 [55.9 kB]\n",
            "Get:11 http://archive.ubuntu.com/ubuntu bionic-updates/main amd64 libgs9-common all 9.26~dfsg+0-0ubuntu0.18.04.14 [5,092 kB]\n",
            "Get:12 http://archive.ubuntu.com/ubuntu bionic-updates/main amd64 libgs9 amd64 9.26~dfsg+0-0ubuntu0.18.04.14 [2,265 kB]\n",
            "Get:13 http://archive.ubuntu.com/ubuntu bionic-updates/main amd64 ghostscript amd64 9.26~dfsg+0-0ubuntu0.18.04.14 [51.3 kB]\n",
            "Get:14 http://archive.ubuntu.com/ubuntu bionic/main amd64 gsfonts all 1:8.11+urwcyr1.0.7~pre44-4.4 [3,120 kB]\n",
            "Get:15 http://archive.ubuntu.com/ubuntu bionic-updates/main amd64 imagemagick-6.q16 amd64 8:6.9.7.4+dfsg-16ubuntu6.9 [423 kB]\n",
            "Get:16 http://archive.ubuntu.com/ubuntu bionic-updates/main amd64 imagemagick amd64 8:6.9.7.4+dfsg-16ubuntu6.9 [14.2 kB]\n",
            "Get:17 http://archive.ubuntu.com/ubuntu bionic-updates/main amd64 libcupsfilters1 amd64 1.20.2-0ubuntu3.1 [108 kB]\n",
            "Get:18 http://archive.ubuntu.com/ubuntu bionic-updates/main amd64 libdjvulibre-text all 3.5.27.1-8ubuntu0.2 [49.3 kB]\n",
            "Get:19 http://archive.ubuntu.com/ubuntu bionic-updates/main amd64 libdjvulibre21 amd64 3.5.27.1-8ubuntu0.2 [560 kB]\n",
            "Get:20 http://archive.ubuntu.com/ubuntu bionic/main amd64 libwmf0.2-7 amd64 0.2.8.4-12 [150 kB]\n",
            "Get:21 http://archive.ubuntu.com/ubuntu bionic-updates/main amd64 libmagickcore-6.q16-3-extra amd64 8:6.9.7.4+dfsg-16ubuntu6.9 [62.3 kB]\n",
            "Get:22 http://archive.ubuntu.com/ubuntu bionic/main amd64 libnetpbm10 amd64 2:10.0-15.3build1 [58.0 kB]\n",
            "Get:23 http://archive.ubuntu.com/ubuntu bionic/main amd64 netpbm amd64 2:10.0-15.3build1 [1,017 kB]\n",
            "Fetched 18.4 MB in 4s (4,925 kB/s)\n",
            "Selecting previously unselected package fonts-droid-fallback.\n",
            "(Reading database ... 160690 files and directories currently installed.)\n",
            "Preparing to unpack .../00-fonts-droid-fallback_1%3a6.0.1r16-1.1_all.deb ...\n",
            "Unpacking fonts-droid-fallback (1:6.0.1r16-1.1) ...\n",
            "Selecting previously unselected package liblqr-1-0:amd64.\n",
            "Preparing to unpack .../01-liblqr-1-0_0.4.2-2.1_amd64.deb ...\n",
            "Unpacking liblqr-1-0:amd64 (0.4.2-2.1) ...\n",
            "Selecting previously unselected package imagemagick-6-common.\n",
            "Preparing to unpack .../02-imagemagick-6-common_8%3a6.9.7.4+dfsg-16ubuntu6.9_all.deb ...\n",
            "Unpacking imagemagick-6-common (8:6.9.7.4+dfsg-16ubuntu6.9) ...\n",
            "Selecting previously unselected package libmagickcore-6.q16-3:amd64.\n",
            "Preparing to unpack .../03-libmagickcore-6.q16-3_8%3a6.9.7.4+dfsg-16ubuntu6.9_amd64.deb ...\n",
            "Unpacking libmagickcore-6.q16-3:amd64 (8:6.9.7.4+dfsg-16ubuntu6.9) ...\n",
            "Selecting previously unselected package libmagickwand-6.q16-3:amd64.\n",
            "Preparing to unpack .../04-libmagickwand-6.q16-3_8%3a6.9.7.4+dfsg-16ubuntu6.9_amd64.deb ...\n",
            "Unpacking libmagickwand-6.q16-3:amd64 (8:6.9.7.4+dfsg-16ubuntu6.9) ...\n",
            "Selecting previously unselected package poppler-data.\n",
            "Preparing to unpack .../05-poppler-data_0.4.8-2_all.deb ...\n",
            "Unpacking poppler-data (0.4.8-2) ...\n",
            "Selecting previously unselected package fonts-noto-mono.\n",
            "Preparing to unpack .../06-fonts-noto-mono_20171026-2_all.deb ...\n",
            "Unpacking fonts-noto-mono (20171026-2) ...\n",
            "Selecting previously unselected package libcupsimage2:amd64.\n",
            "Preparing to unpack .../07-libcupsimage2_2.2.7-1ubuntu2.8_amd64.deb ...\n",
            "Unpacking libcupsimage2:amd64 (2.2.7-1ubuntu2.8) ...\n",
            "Selecting previously unselected package libijs-0.35:amd64.\n",
            "Preparing to unpack .../08-libijs-0.35_0.35-13_amd64.deb ...\n",
            "Unpacking libijs-0.35:amd64 (0.35-13) ...\n",
            "Selecting previously unselected package libjbig2dec0:amd64.\n",
            "Preparing to unpack .../09-libjbig2dec0_0.13-6_amd64.deb ...\n",
            "Unpacking libjbig2dec0:amd64 (0.13-6) ...\n",
            "Selecting previously unselected package libgs9-common.\n",
            "Preparing to unpack .../10-libgs9-common_9.26~dfsg+0-0ubuntu0.18.04.14_all.deb ...\n",
            "Unpacking libgs9-common (9.26~dfsg+0-0ubuntu0.18.04.14) ...\n",
            "Selecting previously unselected package libgs9:amd64.\n",
            "Preparing to unpack .../11-libgs9_9.26~dfsg+0-0ubuntu0.18.04.14_amd64.deb ...\n",
            "Unpacking libgs9:amd64 (9.26~dfsg+0-0ubuntu0.18.04.14) ...\n",
            "Selecting previously unselected package ghostscript.\n",
            "Preparing to unpack .../12-ghostscript_9.26~dfsg+0-0ubuntu0.18.04.14_amd64.deb ...\n",
            "Unpacking ghostscript (9.26~dfsg+0-0ubuntu0.18.04.14) ...\n",
            "Selecting previously unselected package gsfonts.\n",
            "Preparing to unpack .../13-gsfonts_1%3a8.11+urwcyr1.0.7~pre44-4.4_all.deb ...\n",
            "Unpacking gsfonts (1:8.11+urwcyr1.0.7~pre44-4.4) ...\n",
            "Selecting previously unselected package imagemagick-6.q16.\n",
            "Preparing to unpack .../14-imagemagick-6.q16_8%3a6.9.7.4+dfsg-16ubuntu6.9_amd64.deb ...\n",
            "Unpacking imagemagick-6.q16 (8:6.9.7.4+dfsg-16ubuntu6.9) ...\n",
            "Selecting previously unselected package imagemagick.\n",
            "Preparing to unpack .../15-imagemagick_8%3a6.9.7.4+dfsg-16ubuntu6.9_amd64.deb ...\n",
            "Unpacking imagemagick (8:6.9.7.4+dfsg-16ubuntu6.9) ...\n",
            "Selecting previously unselected package libcupsfilters1:amd64.\n",
            "Preparing to unpack .../16-libcupsfilters1_1.20.2-0ubuntu3.1_amd64.deb ...\n",
            "Unpacking libcupsfilters1:amd64 (1.20.2-0ubuntu3.1) ...\n",
            "Selecting previously unselected package libdjvulibre-text.\n",
            "Preparing to unpack .../17-libdjvulibre-text_3.5.27.1-8ubuntu0.2_all.deb ...\n",
            "Unpacking libdjvulibre-text (3.5.27.1-8ubuntu0.2) ...\n",
            "Selecting previously unselected package libdjvulibre21:amd64.\n",
            "Preparing to unpack .../18-libdjvulibre21_3.5.27.1-8ubuntu0.2_amd64.deb ...\n",
            "Unpacking libdjvulibre21:amd64 (3.5.27.1-8ubuntu0.2) ...\n",
            "Selecting previously unselected package libwmf0.2-7:amd64.\n",
            "Preparing to unpack .../19-libwmf0.2-7_0.2.8.4-12_amd64.deb ...\n",
            "Unpacking libwmf0.2-7:amd64 (0.2.8.4-12) ...\n",
            "Selecting previously unselected package libmagickcore-6.q16-3-extra:amd64.\n",
            "Preparing to unpack .../20-libmagickcore-6.q16-3-extra_8%3a6.9.7.4+dfsg-16ubuntu6.9_amd64.deb ...\n",
            "Unpacking libmagickcore-6.q16-3-extra:amd64 (8:6.9.7.4+dfsg-16ubuntu6.9) ...\n",
            "Selecting previously unselected package libnetpbm10.\n",
            "Preparing to unpack .../21-libnetpbm10_2%3a10.0-15.3build1_amd64.deb ...\n",
            "Unpacking libnetpbm10 (2:10.0-15.3build1) ...\n",
            "Selecting previously unselected package netpbm.\n",
            "Preparing to unpack .../22-netpbm_2%3a10.0-15.3build1_amd64.deb ...\n",
            "Unpacking netpbm (2:10.0-15.3build1) ...\n",
            "Setting up libgs9-common (9.26~dfsg+0-0ubuntu0.18.04.14) ...\n",
            "Setting up imagemagick-6-common (8:6.9.7.4+dfsg-16ubuntu6.9) ...\n",
            "Setting up fonts-droid-fallback (1:6.0.1r16-1.1) ...\n",
            "Setting up gsfonts (1:8.11+urwcyr1.0.7~pre44-4.4) ...\n",
            "Setting up poppler-data (0.4.8-2) ...\n",
            "Setting up libdjvulibre-text (3.5.27.1-8ubuntu0.2) ...\n",
            "Setting up libnetpbm10 (2:10.0-15.3build1) ...\n",
            "Setting up fonts-noto-mono (20171026-2) ...\n",
            "Setting up libcupsfilters1:amd64 (1.20.2-0ubuntu3.1) ...\n",
            "Setting up libcupsimage2:amd64 (2.2.7-1ubuntu2.8) ...\n",
            "Setting up liblqr-1-0:amd64 (0.4.2-2.1) ...\n",
            "Setting up libjbig2dec0:amd64 (0.13-6) ...\n",
            "Setting up libijs-0.35:amd64 (0.35-13) ...\n",
            "Setting up netpbm (2:10.0-15.3build1) ...\n",
            "Setting up libgs9:amd64 (9.26~dfsg+0-0ubuntu0.18.04.14) ...\n",
            "Setting up libwmf0.2-7:amd64 (0.2.8.4-12) ...\n",
            "Setting up libmagickcore-6.q16-3:amd64 (8:6.9.7.4+dfsg-16ubuntu6.9) ...\n",
            "Setting up libdjvulibre21:amd64 (3.5.27.1-8ubuntu0.2) ...\n",
            "Setting up ghostscript (9.26~dfsg+0-0ubuntu0.18.04.14) ...\n",
            "Setting up libmagickwand-6.q16-3:amd64 (8:6.9.7.4+dfsg-16ubuntu6.9) ...\n",
            "Setting up imagemagick-6.q16 (8:6.9.7.4+dfsg-16ubuntu6.9) ...\n",
            "update-alternatives: using /usr/bin/compare-im6.q16 to provide /usr/bin/compare (compare) in auto mode\n",
            "update-alternatives: using /usr/bin/compare-im6.q16 to provide /usr/bin/compare-im6 (compare-im6) in auto mode\n",
            "update-alternatives: using /usr/bin/animate-im6.q16 to provide /usr/bin/animate (animate) in auto mode\n",
            "update-alternatives: using /usr/bin/animate-im6.q16 to provide /usr/bin/animate-im6 (animate-im6) in auto mode\n",
            "update-alternatives: using /usr/bin/convert-im6.q16 to provide /usr/bin/convert (convert) in auto mode\n",
            "update-alternatives: using /usr/bin/convert-im6.q16 to provide /usr/bin/convert-im6 (convert-im6) in auto mode\n",
            "update-alternatives: using /usr/bin/composite-im6.q16 to provide /usr/bin/composite (composite) in auto mode\n",
            "update-alternatives: using /usr/bin/composite-im6.q16 to provide /usr/bin/composite-im6 (composite-im6) in auto mode\n",
            "update-alternatives: using /usr/bin/conjure-im6.q16 to provide /usr/bin/conjure (conjure) in auto mode\n",
            "update-alternatives: using /usr/bin/conjure-im6.q16 to provide /usr/bin/conjure-im6 (conjure-im6) in auto mode\n",
            "update-alternatives: using /usr/bin/import-im6.q16 to provide /usr/bin/import (import) in auto mode\n",
            "update-alternatives: using /usr/bin/import-im6.q16 to provide /usr/bin/import-im6 (import-im6) in auto mode\n",
            "update-alternatives: using /usr/bin/identify-im6.q16 to provide /usr/bin/identify (identify) in auto mode\n",
            "update-alternatives: using /usr/bin/identify-im6.q16 to provide /usr/bin/identify-im6 (identify-im6) in auto mode\n",
            "update-alternatives: using /usr/bin/stream-im6.q16 to provide /usr/bin/stream (stream) in auto mode\n",
            "update-alternatives: using /usr/bin/stream-im6.q16 to provide /usr/bin/stream-im6 (stream-im6) in auto mode\n",
            "update-alternatives: using /usr/bin/display-im6.q16 to provide /usr/bin/display (display) in auto mode\n",
            "update-alternatives: using /usr/bin/display-im6.q16 to provide /usr/bin/display-im6 (display-im6) in auto mode\n",
            "update-alternatives: using /usr/bin/montage-im6.q16 to provide /usr/bin/montage (montage) in auto mode\n",
            "update-alternatives: using /usr/bin/montage-im6.q16 to provide /usr/bin/montage-im6 (montage-im6) in auto mode\n",
            "update-alternatives: using /usr/bin/mogrify-im6.q16 to provide /usr/bin/mogrify (mogrify) in auto mode\n",
            "update-alternatives: using /usr/bin/mogrify-im6.q16 to provide /usr/bin/mogrify-im6 (mogrify-im6) in auto mode\n",
            "Setting up libmagickcore-6.q16-3-extra:amd64 (8:6.9.7.4+dfsg-16ubuntu6.9) ...\n",
            "Setting up imagemagick (8:6.9.7.4+dfsg-16ubuntu6.9) ...\n",
            "Processing triggers for hicolor-icon-theme (0.17-2) ...\n",
            "Processing triggers for fontconfig (2.12.6-0ubuntu2) ...\n",
            "Processing triggers for mime-support (3.60ubuntu1) ...\n",
            "Processing triggers for libc-bin (2.27-3ubuntu1.2) ...\n",
            "/sbin/ldconfig.real: /usr/local/lib/python3.7/dist-packages/ideep4py/lib/libmkldnn.so.0 is not a symbolic link\n",
            "\n",
            "Processing triggers for man-db (2.8.3-2ubuntu0.1) ...\n",
            "Reading package lists...\n",
            "Building dependency tree...\n",
            "Reading state information...\n",
            "The following package was automatically installed and is no longer required:\n",
            "  libnvidia-common-460\n",
            "Use 'apt autoremove' to remove it.\n",
            "The following NEW packages will be installed:\n",
            "  xvfb\n",
            "0 upgraded, 1 newly installed, 0 to remove and 85 not upgraded.\n",
            "Need to get 784 kB of archives.\n",
            "After this operation, 2,270 kB of additional disk space will be used.\n",
            "Get:1 http://archive.ubuntu.com/ubuntu bionic-updates/universe amd64 xvfb amd64 2:1.19.6-1ubuntu4.9 [784 kB]\n",
            "Fetched 784 kB in 2s (366 kB/s)\n",
            "Selecting previously unselected package xvfb.\n",
            "(Reading database ... 162648 files and directories currently installed.)\n",
            "Preparing to unpack .../xvfb_2%3a1.19.6-1ubuntu4.9_amd64.deb ...\n",
            "Unpacking xvfb (2:1.19.6-1ubuntu4.9) ...\n",
            "Setting up xvfb (2:1.19.6-1ubuntu4.9) ...\n",
            "Processing triggers for man-db (2.8.3-2ubuntu0.1) ...\n"
          ],
          "name": "stdout"
        }
      ]
    },
    {
      "cell_type": "code",
      "metadata": {
        "id": "aZzCWDIj916T",
        "colab": {
          "base_uri": "https://localhost:8080/"
        },
        "cellView": "form",
        "outputId": "439af935-f79b-4d79-a7cd-08933a7fac41"
      },
      "source": [
        "# @markdown ### Install dependencies\n",
        "import time\n",
        "import os\n",
        "import glob\n",
        "os.environ['MESA_GL_VERSION_OVERRIDE'] = '3.3'\n",
        "os.environ['MESA_GLSL_VERSION_OVERRIDE'] = '330'\n",
        "import json\n",
        "import numpy as np\n",
        "import pandas as pd\n",
        "import random\n",
        "import sys\n",
        "import time\n",
        "from builtins import super\n",
        "from collections import namedtuple\n",
        "from tqdm.auto import tqdm\n",
        "from copy import deepcopy\n",
        "from typing import NamedTuple\n",
        "import pdb\n",
        "import scipy.signal\n",
        "\n",
        "# Pybullet\n",
        "import pybullet as p\n",
        "if use_colab:\n",
        "  p.connect(p.DIRECT)\n",
        "import pybullet_data\n",
        "from   pybullet_utils.arg_parser import ArgParser\n",
        "from   pybullet_envs.deep_mimic.env.pybullet_deep_mimic_env import PyBulletDeepMimicEnv\n",
        "from pybullet_envs.deep_mimic.learning.path import *\n",
        "  \n",
        "# PyTorch\n",
        "import torch\n",
        "import torch.nn as nn\n",
        "import torch.optim as optim\n",
        "import torch.nn.functional as F\n",
        "from   torch.autograd import Variable as V\n",
        "from   torch.distributions import Normal\n",
        "from   torch.optim import Adam\n",
        "\n",
        "# Plotting \n",
        "import matplotlib.pyplot as plt\n",
        "from matplotlib import pylab\n",
        "from matplotlib import animation\n",
        "\n",
        "# Set device\n",
        "device = torch.device(\"cuda\" if torch.cuda.is_available() else \"cpu\")\n"
      ],
      "execution_count": null,
      "outputs": [
        {
          "output_type": "stream",
          "text": [
            "Collecting gputil\n",
            "  Downloading https://files.pythonhosted.org/packages/ed/0e/5c61eedde9f6c87713e89d794f01e378cfd9565847d4576fa627d758c554/GPUtil-1.4.0.tar.gz\n",
            "Building wheels for collected packages: gputil\n",
            "  Building wheel for gputil (setup.py) ... \u001b[?25l\u001b[?25hdone\n",
            "  Created wheel for gputil: filename=GPUtil-1.4.0-cp37-none-any.whl size=7411 sha256=aaac71e8847380aadbda208fd29cf128f303f24a53d82b04a5c5b564f7052456\n",
            "  Stored in directory: /root/.cache/pip/wheels/3d/77/07/80562de4bb0786e5ea186911a2c831fdd0018bda69beab71fd\n",
            "Successfully built gputil\n",
            "Installing collected packages: gputil\n",
            "Successfully installed gputil-1.4.0\n",
            "numGPUs= 1\n",
            "Using GPU hardware (eglRenderer)\n",
            "Collecting numpngw\n",
            "  Downloading https://files.pythonhosted.org/packages/48/99/a2482bbf4d3a663042f496e9a23fb68b068e8768baf0183293f3e5f9aaad/numpngw-0.0.8-py3-none-any.whl\n",
            "Requirement already satisfied: numpy>=1.6.0 in /usr/local/lib/python3.7/dist-packages (from numpngw) (1.19.5)\n",
            "Installing collected packages: numpngw\n",
            "Successfully installed numpngw-0.0.8\n"
          ],
          "name": "stdout"
        }
      ]
    },
    {
      "cell_type": "markdown",
      "metadata": {
        "id": "bStFJK5tPWc8"
      },
      "source": [
        "### Build environment"
      ]
    },
    {
      "cell_type": "code",
      "metadata": {
        "id": "0EgbYjyG955Y",
        "colab": {
          "base_uri": "https://localhost:8080/"
        },
        "outputId": "8573cc8f-5ef0-424f-962d-6319c2a7287a"
      },
      "source": [
        "# Define some parameters\n",
        "timestep     = 1. / 240.\n",
        "animating    = True\n",
        "step         = False\n",
        "total_reward = 0\n",
        "steps        = 0\n",
        "\n",
        "# Build arg parser\n",
        "arg_parser   = ArgParser()\n",
        "arg_file     = \"run_humanoid3d_walk_args.txt\"\n",
        "argpath      = pybullet_data.getDataPath() + \"/args/\" + arg_file\n",
        "succ         = arg_parser.load_file(argpath)\n",
        "project_path = \"/content/gdrive/MyDrive/Colab Notebooks/Penn Deep Learning Course/RL Project\"\n",
        "expert_data  = os.path.join(project_path,\"state_action_deepmimic_850reward.npz\")\n",
        "\n",
        "# Buiild env\n",
        "env = PyBulletDeepMimicEnv(arg_parser, enable_draw = not use_colab)"
      ],
      "execution_count": null,
      "outputs": [
        {
          "output_type": "stream",
          "text": [
            "Initialization strategy: InitializationStrategy.RANDOM\n",
            "motion_file= data/motions/humanoid3d_walk.txt\n",
            "LOADING humanoid!\n"
          ],
          "name": "stdout"
        }
      ]
    },
    {
      "cell_type": "markdown",
      "metadata": {
        "id": "Jg4y-SoxP0p4"
      },
      "source": [
        "### Replay buffer for storing (state, action) pairs"
      ]
    },
    {
      "cell_type": "code",
      "metadata": {
        "id": "ad0hesxKXoBt"
      },
      "source": [
        "if train_model: \n",
        "  # Define replay buffer for collecting expert data\n",
        "  class ReplayBuffer:\n",
        "    def __init__(self, state_dim, act_dim, buffer_size):\n",
        "      # params\n",
        "      self.buffer_size = buffer_size\n",
        "      self.ptr = 0\n",
        "      self.n_samples = 0\n",
        "      # initialize state and action\n",
        "      self.state  = torch.zeros(buffer_size, state_dim, dtype=torch.float32, device=device)\n",
        "      self.action = torch.zeros(buffer_size, act_dim, dtype=torch.float32, device=device)\n",
        "    \n",
        "    def add(self, state, action):\n",
        "      # Add to replay buffer\n",
        "      self.state[self.ptr]  = torch.tensor(state)\n",
        "      self.action[self.ptr] = torch.tensor(action)\n",
        "      # Update vals\n",
        "      if self.n_samples < self.buffer_size:\n",
        "        self.n_samples += 1\n",
        "      self.ptr = (self.ptr + 1) % self.buffer_size\n",
        "\n",
        "    def sample(self, batch_size):      \n",
        "      # Select batch_size number of sample indicies at random from the buffer\n",
        "      idx    = np.random.choice(self.n_samples, batch_size)    \n",
        "      # Using the random indices, assign the corresponding state and action\n",
        "      state  = self.state[idx]\n",
        "      action = self.action[idx]\n",
        "      return state, action\n",
        "\n",
        "  class BCAgent(nn.Module):\n",
        "      def __init__(self, num_inputs, num_actions, hidden_size, learning_rate=3e-4):\n",
        "          super(BCAgent, self).__init__()\n",
        "          self.num_actions = num_actions\n",
        "          self.linear1     = nn.Linear(num_inputs, hidden_size)\n",
        "          self.linear2     = nn.Linear(hidden_size, hidden_size)\n",
        "          self.linear3     = nn.Linear(hidden_size, num_actions)\n",
        "          self.optimizer   = optim.Adam(self.parameters(), lr=learning_rate)\n",
        "          self.criterion   = nn.MSELoss() #CrossEntropyLoss()\n",
        "\n",
        "      def forward(self, state):\n",
        "          x = F.relu(self.linear1(state))\n",
        "          x = F.relu(self.linear2(x))\n",
        "          x = self.linear3(x)\n",
        "          return x \n",
        "      \n",
        "      def get_action(self, state):\n",
        "          state = torch.from_numpy(state).float().unsqueeze(0).to(device)\n",
        "          probs = self.forward(state)\n",
        "          action = probs\n",
        "          return action.cpu().numpy()#[0]\n",
        "      \n",
        "      def update(self, state, action):\n",
        "          # Get output from model\n",
        "          output = self.forward(state)\n",
        "          # Compute loss\n",
        "          loss = self.criterion(output,action.squeeze())\n",
        "          # Take gradient step\n",
        "          self.optimizer.zero_grad()\n",
        "          loss.backward()\n",
        "          self.optimizer.step()\n",
        "\n",
        "          return loss.item()\n",
        "\n",
        "def get_state_from_action(env,action,timestep):\n",
        "     # Convert action to pose: calls self.desiredPose = self._humanoid.convertActionToPose(action)\n",
        "     env.set_action(0, action)\n",
        "     # Update env using PD controller to get joint torques: self._humanoid.computeAndApplyPDForces(self.desiredPose, maxForces=maxForces)\n",
        "     env.update(timestep)\n",
        "     # Get current state\n",
        "     state = env.record_state(0)\n",
        "     # Get simple reward for being alive else none\n",
        "     if env.is_episode_end():\n",
        "            reward = env.calc_reward(0) #0\n",
        "            done   = True\n",
        "     else: \n",
        "            reward = env.calc_reward(0) #1\n",
        "            done   = False\n",
        "     return state, reward, done"
      ],
      "execution_count": null,
      "outputs": []
    },
    {
      "cell_type": "markdown",
      "metadata": {
        "id": "iKA-oFe9P6ex"
      },
      "source": [
        "### Training function for behavioral cloning"
      ]
    },
    {
      "cell_type": "code",
      "metadata": {
        "id": "l_kqI9KJXuk-"
      },
      "source": [
        "if train_model: \n",
        "  def behavioral_cloning(env, agent, buffer, timestep, num_epochs=1, iters_per_epoch=200, batch_size=10,print_epoch=100,model_checkpoints=[],start_epoch=0):\n",
        "      epoch_losses = []\n",
        "      epoch_rewards = []\n",
        "      epoch_count = 1\n",
        "      for epoch in tqdm(range(start_epoch,num_epochs)):\n",
        "          total_loss = 0\n",
        "          for i in range(iters_per_epoch):\n",
        "              \n",
        "              # Sample a batch of states and actions from the buffer\n",
        "              sample_state, sample_action = buffer.sample(batch_size)\n",
        "              \n",
        "              # Update agent\n",
        "              # pdb.set_trace()\n",
        "              loss = agent.update(sample_state,sample_action)\n",
        "              total_loss += loss\n",
        "\n",
        "          # Log average loss\n",
        "          epoch_losses.append(total_loss / iters_per_epoch)\n",
        "          # Evaluate in environment\n",
        "          total_reward = 0\n",
        "          done = False\n",
        "          env.reset()\n",
        "          state = env.record_state(0)\n",
        "          while not done:\n",
        "              with torch.no_grad():\n",
        "                  action = agent.get_action(state)\n",
        "              next_state, reward, done = get_state_from_action(env,action[0],timestep)\n",
        "              #next_state, reward, done, _ = env.step(action)\n",
        "              total_reward += reward\n",
        "              state = next_state\n",
        "          epoch_rewards.append(total_reward)\n",
        "          if epoch_count == print_epoch:\n",
        "            last_milestone = epoch\n",
        "            print(f'Epoch [{epoch+1}/{num_epochs}], loss: {epoch_losses[-1]}, reward: {epoch_rewards[-1]}')\n",
        "            filename = os.path.join(project_path,\"behavioralCloningSimple_modelparams_epoch{}_reward{}.pt\".format(epoch+1,int(total_reward)))\n",
        "            torch.save({\n",
        "              'epoch': epoch,\n",
        "              'model_state_dict': agent.state_dict(),\n",
        "              'optimizer_state_dict': agent.optimizer.state_dict(),\n",
        "              'reward': total_reward,\n",
        "              'loss': total_loss}, filename)\n",
        "            \n",
        "            # torch.save(agent.state_dict(),filename)\n",
        "            # Add filename to list\n",
        "            model_checkpoints.append(filename)\n",
        "            if len(model_checkpoints)>=5:\n",
        "              # Delete old checkpoint\n",
        "              !rm $\"{model_checkpoints[0]}\"\n",
        "              model_checkpoints.pop(0)\n",
        "              # print(model_checkpoints)\n",
        "\n",
        "            epoch_count = 1\n",
        "          else:\n",
        "            epoch_count += 1\n",
        "          done = False\n",
        "          env.reset()\n",
        "      return epoch_losses, epoch_rewards, env"
      ],
      "execution_count": null,
      "outputs": []
    },
    {
      "cell_type": "markdown",
      "metadata": {
        "id": "uy7vNXq0P-VV"
      },
      "source": [
        "### Load expert (state, action) data and add to replay buffer"
      ]
    },
    {
      "cell_type": "code",
      "metadata": {
        "id": "qWACwOpNXzaO",
        "colab": {
          "base_uri": "https://localhost:8080/"
        },
        "outputId": "bbc7ae80-5d7e-4638-e3ca-9d5c6b18628f"
      },
      "source": [
        "if train_model:\n",
        "  # Load expert data\n",
        "  with np.load(expert_data,allow_pickle=True) as data:\n",
        "      action = data['actions']\n",
        "      state  = data['states']\n",
        "  # Get dimensions\n",
        "  act_dim   = action.shape\n",
        "  print(\"Action dimensions: \", act_dim)\n",
        "  state_dim = state.shape\n",
        "  print(\"State dimensions: \", state_dim)\n",
        "  # Define replay buffer\n",
        "  replay_buffer = ReplayBuffer(state_dim[1], act_dim[1], state_dim[0])\n",
        "  # Add expert data to replay buffer    \n",
        "  for ii in range(state_dim[0]):\n",
        "      replay_buffer.add(state[ii,:], action[ii,:])\n",
        "    "
      ],
      "execution_count": null,
      "outputs": [
        {
          "output_type": "stream",
          "text": [
            "(118, 36)\n",
            "(118, 197)\n"
          ],
          "name": "stdout"
        }
      ]
    },
    {
      "cell_type": "markdown",
      "metadata": {
        "id": "6v89rdaDQUwB"
      },
      "source": [
        "## Train humanoid using behavioral cloning"
      ]
    },
    {
      "cell_type": "code",
      "metadata": {
        "id": "mYV9w6-ZX1qL"
      },
      "source": [
        "# Make learning agent\n",
        "agent = BCAgent(state_dim[1],act_dim[1], 128).to(device)\n",
        "\n",
        "# If not new training, load previous model parameters\n",
        "previous_checkpoints=[]\n",
        "if not new_training or not train_model:\n",
        "  for file in glob.glob(os.path.join(project_path,\"*.pt\")):\n",
        "    previous_checkpoints.append(file)\n",
        "  checkpoint = torch.load(previous_checkpoints[-1],map_location=torch.device(device))\n",
        "  agent.load_state_dict(checkpoint)\n",
        "  temp = previous_checkpoints[-1].split(\"epoch\")\n",
        "  start_epoch = int(temp[1].split(\"_\")[0])\n",
        "  # agent.load_state_dict(checkpoint['model_state_dict'])\n",
        "  # agent.optimizier.load_state_dict(checkpoint['optimizer_state_dict'])\n",
        "else: \n",
        "  start_epoch = 0\n",
        "\n",
        "if train_model: \n",
        "  # Train behavioral cloning\n",
        "  losses, rewards, env = behavioral_cloning(env, agent, replay_buffer, timestep, num_epochs=100000, batch_size=10, model_checkpoints=previous_checkpoints,start_epoch=start_epoch)\n"
      ],
      "execution_count": null,
      "outputs": []
    },
    {
      "cell_type": "markdown",
      "metadata": {
        "id": "WgfZ3LMuSp8h"
      },
      "source": [
        "### Evaluate model using N random starts"
      ]
    },
    {
      "cell_type": "code",
      "metadata": {
        "colab": {
          "base_uri": "https://localhost:8080/"
        },
        "id": "bBXvoueI-GL0",
        "outputId": "224afb46-78eb-4ade-ed80-4dc8d9b7eff5"
      },
      "source": [
        "# Use already loaded agent\n",
        "num_iter    = 1000\n",
        "# How often to print\n",
        "print_count   = 0\n",
        "when_to_print = 10\n",
        "# Initialize reward and steps arrays\n",
        "all_reward = []\n",
        "num_steps  = []\n",
        "for ii in range(num_iter):\n",
        "    if print_count == when_to_print:\n",
        "      print(ii)\n",
        "      print_count=0\n",
        "    # Number of episode steps - never reached\n",
        "    ep_steps=1000\n",
        "    total_reward = 0\n",
        "    state = env.reset()\n",
        "    state = env.record_state(0)\n",
        "    for s in range(ep_steps):\n",
        "        with torch.no_grad():\n",
        "            action = agent.get_action(state)\n",
        "        next_state, reward, done = get_state_from_action(env,action[0],timestep)\n",
        "        total_reward += reward\n",
        "        state = next_state\n",
        "        if done:\n",
        "            all_reward.append(total_reward)\n",
        "            num_steps.append(s)\n",
        "            break\n",
        "    print_count+=1\n",
        "# print(all_reward)\n",
        "# print(num_steps)    \n",
        "np.savez(\"behavioralcloning_1000iterations_DeepMimicHumanoid\",all_reward=all_reward,checkpoint=checkpoint,num_steps=num_steps)"
      ],
      "execution_count": null,
      "outputs": [
        {
          "output_type": "stream",
          "text": [
            "success!\n"
          ],
          "name": "stdout"
        }
      ]
    }
  ]
}